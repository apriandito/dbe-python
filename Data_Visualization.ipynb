{
  "nbformat": 4,
  "nbformat_minor": 0,
  "metadata": {
    "colab": {
      "name": "Data Visualization",
      "provenance": [],
      "collapsed_sections": [],
      "authorship_tag": "ABX9TyPeTb4nwwrRe2QuIKaDa4mV",
      "include_colab_link": true
    },
    "kernelspec": {
      "name": "python3",
      "display_name": "Python 3"
    },
    "language_info": {
      "name": "python"
    }
  },
  "cells": [
    {
      "cell_type": "markdown",
      "metadata": {
        "id": "view-in-github",
        "colab_type": "text"
      },
      "source": [
        "<a href=\"https://colab.research.google.com/github/apriandito/dbe-python/blob/main/Data_Visualization.ipynb\" target=\"_parent\"><img src=\"https://colab.research.google.com/assets/colab-badge.svg\" alt=\"Open In Colab\"/></a>"
      ]
    },
    {
      "cell_type": "markdown",
      "metadata": {
        "id": "geLUJqcEoaO-"
      },
      "source": [
        "# **Modul 2: Data Visualization**\n",
        "\n",
        "\n",
        "---\n",
        "\n",
        "Superstore is a retail company in the United States that sells a variety of office and household equipment. The superstore has an e-commerce platform where customers can order goods online through the platform.The E-commerce platform has been operating since January 2014.\n",
        "\n",
        "Every transaction that occurs on the platform is always recorded and stored in the Superstore database. The data stored in the form of purchase information, customer information, product information and so on. Detailed information about the data recorded can be seen in the following:\n",
        "\n"
      ]
    },
    {
      "cell_type": "markdown",
      "metadata": {
        "id": "aSWflCH5bcYc"
      },
      "source": [
        "\n",
        "* **order_id:** Unique code to distinguish each purchase transaction\n",
        "* **order_date:** Order date\n",
        "* **ship_date:** Delivery date\n",
        "* **ship_mode:** \tShipping method\n",
        "* **customer_id:** \tUnique code to distinguish each customer transaction\n",
        "* **customer_name:** Customer’s name\n",
        "* **segment:** Customer segmentation\n",
        "* **country:** \tCustomer country\n",
        "* **city:** \t\tCustomer city\n",
        "* **state:** \t\tCustomer state\n",
        "* **postal_code:** \tCustomer postal code\n",
        "* **region:** \tCustomer region\n",
        "* **product_id:** \tUnique code to distinguish each product\n",
        "* **category:** \tProduct category\n",
        "* **subcategory:** \tProduct subcategory\n",
        "* **product_name:** \tProduct name\n",
        "* **sales:** \tTotal Sales\n",
        "* **quantity:** The quantity of goods purchased\n",
        "* **discount:** \tPurchase discount\n",
        "* **profit:** Total profit for the company\n"
      ]
    },
    {
      "cell_type": "markdown",
      "metadata": {
        "id": "5dcnekAIbY9U"
      },
      "source": [
        "This data can be accessed via the following link https://raw.githubusercontent.com/apriandito/dbe-python/main/data/Superstore.csv. Based on this data, the management wants to know how the company’s performance and customer purchasing patterns."
      ]
    },
    {
      "cell_type": "markdown",
      "metadata": {
        "id": "FBWtOE6pboeK"
      },
      "source": [
        "### **Data Visualization**\n",
        "Data visualization is the graphical representation of data using visual elements like charts, graphs, and maps. Data visualization can help businesses answer problems by displaying information such as patterns, trends, or outliers on data in a way that is easier to understand."
      ]
    },
    {
      "cell_type": "markdown",
      "metadata": {
        "id": "APwwEUJQo6OS"
      },
      "source": [
        "#### **Setup**\n",
        "To perform data visualization in pyton. We need to install and load python pakcage to be used. Because we use Google Collaboratory where all the packages have been installed, we just need to load the package."
      ]
    },
    {
      "cell_type": "code",
      "metadata": {
        "id": "5576XgbIeIoP"
      },
      "source": [
        "# Load packages\n",
        "import pandas as pd\n",
        "import seaborn as sns\n",
        "import matplotlib.pyplot as plt\n",
        "import warnings\n",
        "import numpy as np\n",
        "\n",
        "# Load modules\n",
        "from pandas.tseries.offsets import MonthBegin\n",
        "\n",
        "# Set Parameter\n",
        "sns.set(style=\"white\") \n",
        "plt.rcParams['figure.figsize'] = (16, 9)\n",
        "plt.style.use('ggplot')\n",
        "warnings.filterwarnings('ignore')"
      ],
      "execution_count": null,
      "outputs": []
    },
    {
      "cell_type": "markdown",
      "metadata": {
        "id": "XLbsT3_ab9l2"
      },
      "source": [
        "After the required python packages are installed and loaded, we can load our data into the python environment."
      ]
    },
    {
      "cell_type": "code",
      "metadata": {
        "id": "w5_uB8UWdQl1"
      },
      "source": [
        "# Load adata\n",
        "df = pd.read_csv(\"https://raw.githubusercontent.com/apriandito/dbe-python/main/data/Superstore.csv\")"
      ],
      "execution_count": null,
      "outputs": []
    },
    {
      "cell_type": "code",
      "metadata": {
        "id": "LZIImjX5r_10"
      },
      "source": [
        "# Print Data\n",
        "df.head(5)"
      ],
      "execution_count": null,
      "outputs": []
    },
    {
      "cell_type": "code",
      "metadata": {
        "id": "BASodZ_cginw"
      },
      "source": [
        "#  Check Data Information\n",
        "df.info()"
      ],
      "execution_count": null,
      "outputs": []
    },
    {
      "cell_type": "markdown",
      "metadata": {
        "id": "VOlnxCFIgLna"
      },
      "source": [
        "There is an error in the data, where the variables `order_date` and `ship_date` have not been identified as date data types"
      ]
    },
    {
      "cell_type": "code",
      "metadata": {
        "id": "mYmfR1QBkVHT"
      },
      "source": [
        "# Fix data\n",
        "df[['order_date', 'ship_date']] = df[['order_date', 'ship_date']].apply(pd.to_datetime) - MonthBegin(1)"
      ],
      "execution_count": null,
      "outputs": []
    },
    {
      "cell_type": "code",
      "metadata": {
        "id": "gnl6Le2slSdW"
      },
      "source": [
        "# Check data again\n",
        "df.info()"
      ],
      "execution_count": null,
      "outputs": []
    },
    {
      "cell_type": "markdown",
      "metadata": {
        "id": "YwZmtJWXpZ56"
      },
      "source": [
        "#### **Sales**\n",
        "First of all, the management wants to know their sales trend. To display trend data continuously, we can visualize it use a line chart."
      ]
    },
    {
      "cell_type": "code",
      "metadata": {
        "id": "mmJV8EhRsPhv"
      },
      "source": [
        "# Transform Data\n",
        "sales = df[['order_date', 'sales']].groupby('order_date').agg('sum')\n",
        "\n",
        "# Visualize\n",
        "sns.lineplot(x = \"order_date\", \n",
        "             y = \"sales\", \n",
        "             markers=True, \n",
        "             dashes=False,\n",
        "             data = sales)"
      ],
      "execution_count": null,
      "outputs": []
    },
    {
      "cell_type": "markdown",
      "metadata": {
        "id": "k8g-v_ggcp_z"
      },
      "source": [
        "It can be seen that the number of sales increases over time. But the management has an additional question, Is this increasing number of sales followed by an increase in profit?"
      ]
    },
    {
      "cell_type": "code",
      "metadata": {
        "id": "k8qxbdT8vhc7"
      },
      "source": [
        "# Transform Data\n",
        "profit = df[['order_date', 'profit']].groupby('order_date').agg('sum')\n",
        "\n",
        "# Visualize\n",
        "sns.lineplot(x = \"order_date\", \n",
        "             y = \"profit\", \n",
        "             markers=True, \n",
        "             dashes=False,\n",
        "             data = profit)"
      ],
      "execution_count": null,
      "outputs": []
    },
    {
      "cell_type": "markdown",
      "metadata": {
        "id": "V1Kp8CA7pOHR"
      },
      "source": [
        "#### **Customer**\n",
        "The Management is delighted to see that their sales trend continues to increase. However, to improve Customer Relationship Management, Management wants to know the purchasing patterns of its customers. So, in the beginning, the Management wants to know which city has the highest number of sales. We can visualize it using a bar chart."
      ]
    },
    {
      "cell_type": "code",
      "metadata": {
        "id": "ZbBom9CNHeJC"
      },
      "source": [
        "# Transform Data\n",
        "state_sales = df[['sales', 'state']].groupby('state',as_index = False).agg('sum').sort_values(by = \"sales\", ascending = False).head(5)\n",
        "\n",
        "# Visualize\n",
        "sns.barplot(x=\"state\", \n",
        "            y=\"sales\", \n",
        "            data= state_sales)"
      ],
      "execution_count": null,
      "outputs": []
    },
    {
      "cell_type": "markdown",
      "metadata": {
        "id": "m-YVdG7Idh2L"
      },
      "source": [
        "Based on the visualization above, the five states with the highest sales are California, New York, Texas, Washington, Pennsylvania. However, management has an additional question: Are the five cities’ sales continuing to increase, or is it just stagnant?"
      ]
    },
    {
      "cell_type": "code",
      "metadata": {
        "id": "ajuzE3YAQnUt"
      },
      "source": [
        "# Select Top State\n",
        "top_state = ['California','New York','Texas', 'Washington', \"Pennsylvania\"]\n",
        "top_state = df[df.state.isin(top_state)]\n",
        "\n",
        "# Trend Top State\n",
        "state_sales_trend = top_state[['order_date', 'sales', 'state']].groupby(['order_date','state'],as_index = False).agg('sum')\n",
        "state_sales_trend\n",
        "\n",
        "# Visualize\n",
        "sns.lineplot(x = \"order_date\", \n",
        "             y = \"sales\",\n",
        "             hue = \"state\", \n",
        "             data = dynamic_state_sales)"
      ],
      "execution_count": null,
      "outputs": []
    },
    {
      "cell_type": "markdown",
      "metadata": {
        "id": "l5fFgQNeplnK"
      },
      "source": [
        "##### **Product**"
      ]
    },
    {
      "cell_type": "markdown",
      "metadata": {
        "id": "FIkRGNcyd2Vc"
      },
      "source": [
        "At the end, the management wants to know which product categories are sold the most and the product categories that generate the most profits. What product categories are most sold? Do the categories that sell a lot generate a lot of profit? we can use a bar chart to visualize it."
      ]
    },
    {
      "cell_type": "code",
      "metadata": {
        "id": "qXYPFltr-9Or"
      },
      "source": [
        "# Transform Data\n",
        "product = df[['sales', 'profit', 'category']].groupby('category', as_index = False).sum().melt(id_vars='category')\n",
        "\n",
        "# Visualize\n",
        "sns.barplot(x = \"value\", \n",
        "            y = \"category\", \n",
        "            hue = \"variable\", \n",
        "            data = product)"
      ],
      "execution_count": null,
      "outputs": []
    },
    {
      "cell_type": "markdown",
      "metadata": {
        "id": "0QRW_KfheJIF"
      },
      "source": [
        "It turns out that the product category that sold the most is the technology category, as well as the category that generates the most profits. However, product categories that are sold more do not necessarily produce more profit. As we can see, the furniture category sells more than the office supplies category but generates less profit."
      ]
    }
  ]
}